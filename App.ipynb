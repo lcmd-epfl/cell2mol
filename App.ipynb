{
 "cells": [
  {
   "cell_type": "markdown",
   "metadata": {},
   "source": [
    "<img style=\"float: right;\" src=\"images/cell2mol_logo.png\" width=\"500\">\n",
    "\n",
    "# cell2mol\n",
    "Unit Cell to Molecule Interpretation"
   ]
  },
  {
   "cell_type": "code",
   "execution_count": 11,
   "metadata": {},
   "outputs": [],
   "source": [
    "import numpy as np\n",
    "from ipywidgets import interactive, widgets, HTML, Button\n",
    "from typing import Callable\n",
    "import warnings\n",
    "import os\n",
    "import markdown\n",
    "import codecs\n",
    "from IPython.display import display, FileLink\n",
    "# Two imports are not needed due to visualization being disabled until nglview integration is fixed\n",
    "#import ase.io\n",
    "#import nglview\n",
    "\n",
    "\n",
    "warnings.simplefilter('ignore')"
   ]
  },
  {
   "cell_type": "code",
   "execution_count": 12,
   "metadata": {},
   "outputs": [
    {
     "data": {
      "application/vnd.jupyter.widget-view+json": {
       "model_id": "f5085699157540d2ad68ca5016aad581",
       "version_major": 2,
       "version_minor": 0
      },
      "text/plain": [
       "Accordion(children=(HTML(value='<p>cell2mol is able to analyze cif files containing crystallographic unit cell…"
      ]
     },
     "execution_count": 12,
     "metadata": {},
     "output_type": "execute_result"
    }
   ],
   "source": [
    "html_description = markdown.markdown(\"\"\"\n",
    "cell2mol is able to analyze cif files containing crystallographic unit cell information and provide a chemical interpretation of the individual molecular species\"\"\")\n",
    "description=HTML(html_description)\n",
    "\n",
    "pre_accordion = widgets.Accordion()\n",
    "pre_accordion.children = [description]\n",
    "pre_accordion.set_title(0, 'Description')\n",
    "pre_accordion.selected_index = None\n",
    "pre_accordion"
   ]
  },
  {
   "cell_type": "markdown",
   "metadata": {},
   "source": [
    "Proceed through the four tabs sequentially."
   ]
  },
  {
   "cell_type": "code",
   "execution_count": 13,
   "metadata": {},
   "outputs": [],
   "source": [
    "# Import the core functionalities of cell2mol\n",
    "from cell2mol.cif2info import cif_2_info\n",
    "from cell2mol.c2m_module import save_cell, cell2mol\n",
    "\n"
   ]
  },
  {
   "cell_type": "code",
   "execution_count": 15,
   "metadata": {},
   "outputs": [],
   "source": [
    "# Define plotting and downloading functionalities\n",
    "\n",
    "class DownloadButton(Button):\n",
    "    \"\"\"Download button with dynamic content\n",
    "\n",
    "    The content is generated using a callback when the button is clicked.\n",
    "    \"\"\"\n",
    "\n",
    "    def __init__(self, filename: str, contents: Callable[[], str], **kwargs):\n",
    "        super(DownloadButton, self).__init__(**kwargs)\n",
    "        self.filename = filename\n",
    "        self.contents = contents\n",
    "        self.on_click(self.__on_click)\n",
    "\n",
    "    def __on_click(self, b):\n",
    "        contents: bytes = self.contents().encode('utf-8')\n",
    "        b64 = base64.b64encode(contents)\n",
    "        payload = b64.decode()\n",
    "        digest = hashlib.md5(contents).hexdigest()  # bypass browser cache\n",
    "        id = f'dl_{digest}'\n",
    "\n",
    "        display(HTML(f\"\"\"\n",
    "<html>\n",
    "<body>\n",
    "<a id=\"{id}\" download=\"{self.filename}\" href=\"data:text/csv;base64,{payload}\" download>\n",
    "</a>\n",
    "\n",
    "<script>\n",
    "(function download() {{\n",
    "document.getElementById('{id}').click();\n",
    "}})()\n",
    "</script>\n",
    "\n",
    "</body>\n",
    "</html>\n",
    "\"\"\"))\n",
    "\n",
    "\n",
    "def plot_from_file(filename):\n",
    "    pass\n",
    "    # This function is disabled currently due to incompatibilities depending on the nglviewer and widgets versions\n",
    "    #atoms = ase.io.read(filename)\n",
    "    #v = nglview.show_ase(self.conf)\n",
    "    #v.add_representation(\"unitcell\")\n",
    "    #boxy=widgets.Box([v],layout=self.box_layout)\n",
    "    #display(boxy)"
   ]
  },
  {
   "cell_type": "code",
   "execution_count": 34,
   "metadata": {},
   "outputs": [],
   "source": [
    "#############################\n",
    "# STEP 1: Choose and upload\n",
    "#############################\n",
    "\n",
    "# Define upload widget\n",
    "Widget1UploadConfiguration = widgets.FileUpload(\n",
    " accept='.cif',  # Accepted file extension e.g. '.cif'\n",
    " multiple=False,  # True to accept multiple files upload else False\n",
    " wait=True\n",
    ")\n",
    "\n",
    "examples = [('cell2mol/test/cif/AJEPIP.cif')]\n",
    "widget_choose_filename = widgets.Dropdown(options=examples,description='Structure:')\n",
    "\n",
    "Widget1Out = widgets.Output()\n",
    "def chooseAndPlotConfigurationAltOutput(filename):\n",
    "    Widget1Out.clear_output()\n",
    "    with Widget1Out:\n",
    "        plot_from_file(filename)\n",
    "        \n",
    "Widget1ExampleConfiguration = interactive(chooseAndPlotConfigurationAltOutput, filename=widget_choose_filename)\n",
    "\n",
    "# This function updates the dropdown list when a new file is uploaded\n",
    "def updateWidget1ExampleConfiguration(*args):\n",
    "    uploaded_filename = next(iter(Widget1UploadConfiguration.value))\n",
    "    content = Widget1UploadConfiguration.value[uploaded_filename]['content']\n",
    "    with open(\"uploaded/\" + uploaded_filename, 'wb') as f: f.write(content)\n",
    "    mypath=\"uploaded/\"\n",
    "    found_files=[]\n",
    "    for f in os.listdir(mypath):\n",
    "        if (f!=\"README.md\"):\n",
    "            found_files += [(f , mypath + f)]\n",
    "    found_files = tuple(found_files)\n",
    "    #found_files = tuple([(f , mypath + f) for f in os.listdir(mypath)])\n",
    "    all_files = found_files+examples\n",
    "    widget_choose_filename.options = all_files\n",
    "    \n",
    "Widget1UploadConfiguration.observe(updateWidget1ExampleConfiguration,names='value')\n",
    "\n",
    "Widget1ExamplesAndUpload = widgets.HBox([Widget1ExampleConfiguration,Widget1UploadConfiguration])\n",
    "Widget1Text = HTML(markdown.markdown(\"\"\"\n",
    "Choose a structure from the examples or upload your own in .cif format [https://en.wikipedia.org/wiki/Crystallographic_Information_File].\n",
    "\"\"\"))\n",
    "Widget1 = widgets.VBox([Widget1Text,Widget1ExamplesAndUpload,Widget1Out])"
   ]
  },
  {
   "cell_type": "code",
   "execution_count": 42,
   "metadata": {},
   "outputs": [
    {
     "ename": "StopIteration",
     "evalue": "",
     "output_type": "error",
     "traceback": [
      "\u001b[0;31m---------------------------------------------------------------------------\u001b[0m",
      "\u001b[0;31mStopIteration\u001b[0m                             Traceback (most recent call last)",
      "Input \u001b[0;32mIn [42]\u001b[0m, in \u001b[0;36m<cell line: 4>\u001b[0;34m()\u001b[0m\n\u001b[1;32m      1\u001b[0m \u001b[38;5;66;03m#############################\u001b[39;00m\n\u001b[1;32m      2\u001b[0m \u001b[38;5;66;03m# STEP 2: Run cell2info\u001b[39;00m\n\u001b[1;32m      3\u001b[0m \u001b[38;5;66;03m#############################\u001b[39;00m\n\u001b[0;32m----> 4\u001b[0m uploaded_filename_refcode \u001b[38;5;241m=\u001b[39m \u001b[38;5;28;43mnext\u001b[39;49m\u001b[43m(\u001b[49m\u001b[38;5;28;43miter\u001b[39;49m\u001b[43m(\u001b[49m\u001b[43mWidget1UploadConfiguration\u001b[49m\u001b[38;5;241;43m.\u001b[39;49m\u001b[43mvalue\u001b[49m\u001b[43m)\u001b[49m\u001b[43m)\u001b[49m\u001b[38;5;241m.\u001b[39msplit(\u001b[38;5;124m'\u001b[39m\u001b[38;5;124m/\u001b[39m\u001b[38;5;124m'\u001b[39m)[\u001b[38;5;241m-\u001b[39m\u001b[38;5;241m1\u001b[39m]\u001b[38;5;241m.\u001b[39msplit(\u001b[38;5;124m'\u001b[39m\u001b[38;5;124m.\u001b[39m\u001b[38;5;124m'\u001b[39m)[\u001b[38;5;241m-\u001b[39m\u001b[38;5;241m1\u001b[39m]\n\u001b[1;32m      5\u001b[0m cif_content \u001b[38;5;241m=\u001b[39m Widget1UploadConfiguration\u001b[38;5;241m.\u001b[39mvalue[uploaded_filename][\u001b[38;5;124m'\u001b[39m\u001b[38;5;124mcontent\u001b[39m\u001b[38;5;124m'\u001b[39m]\n\u001b[1;32m      6\u001b[0m \u001b[38;5;66;03m#cif_content = codecs.decode(widget_choose_filename.value, encoding=\"utf-8\")\u001b[39;00m\n",
      "\u001b[0;31mStopIteration\u001b[0m: "
     ]
    }
   ],
   "source": [
    "#############################\n",
    "# STEP 2: Run cell2info\n",
    "#############################\n",
    "uploaded_filename_refcode = next(iter(Widget1UploadConfiguration.value)).split('/')[-1].split('.')[-1]\n",
    "cif_content = Widget1UploadConfiguration.value[uploaded_filename]['content']\n",
    "#cif_content = codecs.decode(widget_choose_filename.value, encoding=\"utf-8\")\n",
    "with open(\"uploaded/\" + uploaded_filename_refcode +'.cif', 'wb') as f: f.write(cif_content)\n",
    "refcode = uploaded_filename.split('.')[-2]\n",
    "info_path = input_path.replace('.cif','.info')\n",
    "error_path = input_path.replace('.cif','.error')\n",
    "cif_2_info(input_path, info_path, error_path)\n"
   ]
  },
  {
   "cell_type": "code",
   "execution_count": null,
   "metadata": {},
   "outputs": [],
   "source": [
    "#############################\n",
    "# STEP 3: Run cell2mol on infofile\n",
    "#############################\n",
    "cell = cell2mol(info_path, refcore, os.getcwd(), 3)\n",
    "\n",
    "\n",
    "DownloadButton(filename='foo.txt', contents=lambda: f'hello {time.time()}', description='download')"
   ]
  },
  {
   "cell_type": "code",
   "execution_count": null,
   "metadata": {},
   "outputs": [],
   "source": [
    "html_acknowledgments = markdown.markdown(\"\"\"\n",
    "* Funding from the NCCR MARVEL funded by the SNSF.\n",
    "\"\"\")\n",
    "acknowledgments=widgets.VBox([\n",
    "    HTML(html_acknowledgments)\n",
    "])\n",
    "\n",
    "html_howtocite = markdown.markdown(\"\"\"\n",
    "Please cite the cell2mol paper~!\n",
    "\"\"\")\n",
    "howtocite=widgets.VBox([\n",
    "    HTML(html_howtocite)\n",
    "])\n",
    "\n",
    "post_children=[acknowledgments,howtocite]\n",
    "post_accordion = widgets.Accordion(layout=widgets.Layout())\n",
    "#print(post_accordion.layout.keys)\n",
    "post_accordion.children = post_children\n",
    "post_accordion.set_title(0, 'Acknowledgments')\n",
    "post_accordion.set_title(1, 'How to cite')\n",
    "post_accordion.selected_index = None\n",
    "post_accordion"
   ]
  },
  {
   "cell_type": "markdown",
   "metadata": {},
   "source": [
    "See the project on [GitHub](https://github.com/lcmd-epfl/cell2mol)"
   ]
  },
  {
   "cell_type": "markdown",
   "metadata": {},
   "source": [
    "cell2mol, Copyright © 2022 LCMD-EPFL"
   ]
  },
  {
   "cell_type": "code",
   "execution_count": null,
   "metadata": {},
   "outputs": [],
   "source": []
  }
 ],
 "metadata": {
  "kernelspec": {
   "display_name": "cell2mol",
   "language": "python",
   "name": "cell2mol"
  },
  "language_info": {
   "codemirror_mode": {
    "name": "ipython",
    "version": 3
   },
   "file_extension": ".py",
   "mimetype": "text/x-python",
   "name": "python",
   "nbconvert_exporter": "python",
   "pygments_lexer": "ipython3",
   "version": "3.9.9"
  }
 },
 "nbformat": 4,
 "nbformat_minor": 4
}
