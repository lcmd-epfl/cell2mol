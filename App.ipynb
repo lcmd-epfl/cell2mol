{
 "cells": [
  {
   "cell_type": "markdown",
   "metadata": {},
   "source": [
    "<img style=\"float: right;\" src=\"images/cell2mol_logo.png\" width=\"500\">\n",
    "\n",
    "# cell2mol\n",
    "Unit Cell to Molecule Interpretation"
   ]
  },
  {
   "cell_type": "code",
   "execution_count": 1,
   "metadata": {},
   "outputs": [],
   "source": [
    "import numpy as np\n",
    "from ipywidgets import interactive, widgets, HTML, Button\n",
    "from typing import Callable, Any\n",
    "import warnings\n",
    "import os\n",
    "import markdown\n",
    "import codecs\n",
    "import pickle\n",
    "from IPython.display import display, FileLink\n",
    "from contextlib import contextmanager\n",
    "from io import StringIO \n",
    "import sys\n",
    "\n",
    "\n",
    "# Two imports are not needed due to visualization being disabled until nglview integration is fixed\n",
    "#import ase.io\n",
    "#import nglview\n",
    "\n",
    "\n",
    "\n",
    "\n",
    "warnings.simplefilter('ignore')"
   ]
  },
  {
   "cell_type": "code",
   "execution_count": 2,
   "metadata": {},
   "outputs": [
    {
     "data": {
      "application/vnd.jupyter.widget-view+json": {
       "model_id": "f77dd14df6a046719aa2411efc4d3e43",
       "version_major": 2,
       "version_minor": 0
      },
      "text/plain": [
       "Accordion(children=(HTML(value='<p>cell2mol is able to analyze cif files containing crystallographic unit cell…"
      ]
     },
     "execution_count": 2,
     "metadata": {},
     "output_type": "execute_result"
    }
   ],
   "source": [
    "html_description = markdown.markdown(\"\"\"\n",
    "cell2mol is able to analyze cif files containing crystallographic unit cell information and provide a chemical interpretation of the individual molecular species\"\"\")\n",
    "description=HTML(html_description)\n",
    "\n",
    "pre_accordion = widgets.Accordion()\n",
    "pre_accordion.children = [description]\n",
    "pre_accordion.set_title(0, 'Description')\n",
    "pre_accordion.selected_index = None\n",
    "pre_accordion"
   ]
  },
  {
   "cell_type": "markdown",
   "metadata": {},
   "source": [
    "Proceed through the four tabs sequentially."
   ]
  },
  {
   "cell_type": "code",
   "execution_count": 3,
   "metadata": {},
   "outputs": [],
   "source": [
    "# Import the core functionalities of cell2mol\n",
    "from cell2mol.cif2info import cif_2_info\n",
    "from cell2mol.c2m_module import save_cell, cell2mol\n",
    "\n"
   ]
  },
  {
   "cell_type": "code",
   "execution_count": 4,
   "metadata": {},
   "outputs": [],
   "source": [
    "# Define some basic functionalities\n",
    "\n",
    "class Capturing(list):\n",
    "    def __enter__(self):\n",
    "        self._stdout = sys.stdout\n",
    "        sys.stdout = self._stringio = StringIO()\n",
    "        return self\n",
    "    def __exit__(self, *args):\n",
    "        self.extend(self._stringio.getvalue().splitlines())\n",
    "        del self._stringio    # free up some memory\n",
    "        sys.stdout = self._stdout\n",
    "\n",
    "\n",
    "class ExecutionButton(Button):\n",
    "    def __init__(self, action: Callable[bool, Any], WidgetOut, **kwargs):\n",
    "        super(ExecutionButton, self).__init__(**kwargs)\n",
    "        self.action = action\n",
    "        self.tooltip='Click me to run'\n",
    "        self.description='Run'\n",
    "        self.icon='fa-check'\n",
    "        self.output = WidgetOut\n",
    "        self.on_click(self.__on_click)\n",
    "        \n",
    "    @contextmanager\n",
    "    def show_loading(self):\n",
    "        self.description = 'Running...'\n",
    "        self.icon = 'fa-stop'\n",
    "        yield\n",
    "        self.description = 'Ready to run again'\n",
    "        self.icon = 'fa-check'\n",
    "           \n",
    "    def __on_click(self, b):\n",
    "        with self.show_loading():\n",
    "            toprint = self.action(run=True)\n",
    "        with self.output :\n",
    "            for line in toprint:\n",
    "                print(line)\n",
    "        \n",
    "def plot_from_file(filename):\n",
    "    pass\n",
    "    # This function is disabled currently due to incompatibilities depending on the nglviewer and widgets versions\n",
    "    #atoms = ase.io.read(filename)\n",
    "    #v = nglview.show_ase(self.conf)\n",
    "    #v.add_representation(\"unitcell\")\n",
    "    #boxy=widgets.Box([v],layout=self.box_layout)\n",
    "    #display(boxy)\n",
    "\n",
    "\n",
    "#############################\n",
    "# STEP 1: Choose and upload, define widgets\n",
    "#############################\n",
    "\n",
    "Widget1UploadConfiguration = widgets.FileUpload(\n",
    " accept='.cif',  # Accepted file extension e.g. '.cif'\n",
    " multiple=False,  # True to accept multiple files upload else False\n",
    " wait=True\n",
    ")\n",
    "\n",
    "examples = ('Transition metal complex', 'cell2mol/test/cif/AJEPIP.cif'),\n",
    "widget_choose_filename = widgets.Dropdown(options=examples,description='Structure:')\n",
    "\n",
    "Widget1Out = widgets.Output()\n",
    "def chooseAndPlotConfigurationAltOutput(filename):\n",
    "    Widget1Out.clear_output()\n",
    "    with Widget1Out:\n",
    "        plot_from_file(filename)\n",
    "        \n",
    "Widget1ExampleConfiguration = interactive(chooseAndPlotConfigurationAltOutput, filename=widget_choose_filename)\n",
    "\n",
    "# This function updates the dropdown list when a new file is uploaded\n",
    "def updateWidget1ExampleConfiguration(*args):\n",
    "    uploaded = next(iter(Widget1UploadConfiguration.value))\n",
    "    cif_content = codecs.decode(uploaded['content'], encoding=\"utf-8\") \n",
    "    cif_name = uploaded['name']\n",
    "    mypath=\"./uploaded/\"\n",
    "    with open(mypath + cif_name, 'w') as f: \n",
    "        f.write(cif_content)\n",
    "    found_files=[]\n",
    "    for f in os.listdir(mypath):\n",
    "        found_files.append(f)\n",
    "    all_files = found_files\n",
    "    widget_choose_filename.options = all_files\n",
    "    \n",
    "Widget1UploadConfiguration.observe(updateWidget1ExampleConfiguration,names='value')\n",
    "Widget1ExamplesAndUpload = widgets.HBox([Widget1ExampleConfiguration,Widget1UploadConfiguration])\n",
    "Widget1Text = HTML(markdown.markdown(\"\"\"\n",
    "Choose a structure from the examples or upload your own in .cif format [https://en.wikipedia.org/wiki/Crystallographic_Information_File].\n",
    "\"\"\"))\n",
    "Widget1 = widgets.VBox([Widget1Text,Widget1ExamplesAndUpload,Widget1Out])\n",
    "\n",
    "Widget2Text = HTML(markdown.markdown(\"\"\"\n",
    "Will run cell2info on the cif file selected in the drop down menu in the previous tab. Should run almost instantaneously. When finished, output will be printed below, then go to next tab!\n",
    "\"\"\"))\n",
    "Widget2BottomText = HTML(markdown.markdown(\"\"\"\n",
    "cell2info output:\n",
    "\"\"\"))\n",
    "Widget2Out = widgets.Output(layout={'border': '1px solid black'})\n",
    "Widget3Text = HTML(markdown.markdown(\"\"\"\n",
    "Will run cell2mol on the info file obtained in the previous tab from the cif file in the first tab. Takes some time to run. When finished, output will be printed below.\n",
    "\"\"\"))\n",
    "Widget3BottomText = HTML(markdown.markdown(\"\"\"\n",
    "cell2mol output:\n",
    "\"\"\"))\n",
    "Widget3Out = widgets.Output(layout={'border': '1px solid black'})\n",
    "\n",
    "#############################\n",
    "# STEP 2: Run cell2info\n",
    "#############################\n",
    "def run_cell2info(run=False):\n",
    "    if run :\n",
    "        cif_name = widget_choose_filename.value\n",
    "        if \"/\" in cif_name :\n",
    "            cif_name = cif_name.split(\"/\")[-1]\n",
    "        refcode = cif_name.split(\"/\")[-1].split(\".\")[-2]\n",
    "        info_name = cif_name.replace('.cif', '.info')\n",
    "        err_name = cif_name.replace('.cif', '.err')\n",
    "        input_path = \"./uploaded/\" + cif_name\n",
    "        info_path = \"./uploaded/\" + info_name\n",
    "        error_path = \"./uploaded/\" + err_name\n",
    "        cell_path = \"./Cell_\" + refcode +'.gmol'\n",
    "        with Capturing() as output:\n",
    "            cif_2_info(input_path, info_path, error_path)\n",
    "        return output\n",
    "\n",
    "#############################\n",
    "# STEP 3: Run cell2mol on infofile\n",
    "#############################\n",
    "def run_cell2mol(run=False):\n",
    "    if run :\n",
    "        cif_name = widget_choose_filename.value\n",
    "        if \"/\" in cif_name :\n",
    "            cif_name = cif_name.split(\"/\")[-1]\n",
    "        refcode = cif_name.split(\"/\")[-1].split(\".\")[-2]\n",
    "        info_name = cif_name.replace('.cif', '.info')\n",
    "        err_name = cif_name.replace('.cif', '.err')\n",
    "        input_path = \"./uploaded/\" + cif_name\n",
    "        info_path = \"./uploaded/\" + info_name\n",
    "        error_path = \"./uploaded/\" + err_name\n",
    "        cell_path = \"./Cell_\" + refcode +'.gmol'\n",
    "        if os.path.exists(info_path):\n",
    "            with Capturing() as output:\n",
    "                cell = cell2mol(info_path, refcode, \"./uploaded/\", 3)\n",
    "                save_cell(cell, 'gmol', \"./uploaded/\")\n",
    "            for mol in cell.moleclist:\n",
    "                if hasattr(mol, \"totcharge\"):\n",
    "                    output += f\"Molecule found: {mol.type} \\n with formula: {mol.formula} \\n with charge: {mol.totcharge} \\n with metal connectivity: {mol.totmconnec}\"\n",
    "                else :\n",
    "                    output += f\"Molecule found: {mol.type} \\n with formula: {mol.formula} \\n with metal connectivity: {mol.totmconnec}\"\n",
    "        else:\n",
    "            output = [\"Please, wait until cell2info has finished for this input.\"]\n",
    "            print(output)   \n",
    "        return output\n",
    "\n",
    "#############################\n",
    "# STEP 4: Set up download of gmol files (not implemented currently)\n",
    "#############################            \n",
    "def find_gmol(run=False):\n",
    "    if run :\n",
    "        cif_name = widget_choose_filename.value\n",
    "        if \"/\" in cif_name :\n",
    "            cif_name = cif_name.split(\"/\")[-1]\n",
    "        refcode = cif_name.split(\"/\")[-1].split(\".\")[-2]\n",
    "        cell_path = \"./Cell_\" + refcode +'.gmol'\n",
    "        output = ''\n",
    "        if os.path.exists(cell_path):\n",
    "            return cell_path\n",
    "        else:\n",
    "            output += \"Please, wait until cell2mol has finished for this input.\"\n",
    "            print(output)   \n",
    "        return output\n",
    "\n",
    "\n",
    "Widget2 = widgets.VBox([Widget2Text, ExecutionButton(run_cell2info, Widget2Out), Widget2BottomText, Widget2Out])          \n",
    "Widget3 = widgets.VBox([Widget3Text, ExecutionButton(run_cell2mol, Widget3Out), Widget3BottomText, Widget3Out])\n"
   ]
  },
  {
   "cell_type": "code",
   "execution_count": 5,
   "metadata": {},
   "outputs": [],
   "source": [
    "#############################\n",
    "# Put widget in tab\n",
    "#############################\n",
    "\n",
    "children = [Widget1, Widget2, Widget3]\n",
    "tab = widgets.Tab() #layout=widgets.Layout(width='800px', height='800px'))\n",
    "tab.children = children\n",
    "tab.set_title(0, 'Upload file')\n",
    "tab.set_title(1, 'Run cell2info')\n",
    "tab.set_title(2, 'Run cell2mol')\n",
    "\n"
   ]
  },
  {
   "cell_type": "code",
   "execution_count": null,
   "metadata": {},
   "outputs": [],
   "source": []
  },
  {
   "cell_type": "code",
   "execution_count": 6,
   "metadata": {},
   "outputs": [
    {
     "data": {
      "application/vnd.jupyter.widget-view+json": {
       "model_id": "3b98ad1651d24e5189c9cb172ba4143f",
       "version_major": 2,
       "version_minor": 0
      },
      "text/plain": [
       "Tab(children=(VBox(children=(HTML(value='<p>Choose a structure from the examples or upload your own in .cif fo…"
      ]
     },
     "metadata": {},
     "output_type": "display_data"
    }
   ],
   "source": [
    "display(tab)"
   ]
  },
  {
   "cell_type": "code",
   "execution_count": null,
   "metadata": {},
   "outputs": [],
   "source": []
  },
  {
   "cell_type": "code",
   "execution_count": 7,
   "metadata": {},
   "outputs": [
    {
     "data": {
      "application/vnd.jupyter.widget-view+json": {
       "model_id": "4b43dc92408e441aacb762e074847e4f",
       "version_major": 2,
       "version_minor": 0
      },
      "text/plain": [
       "Accordion(children=(VBox(children=(HTML(value='<ul>\\n<li>Funding from the NCCR MARVEL funded by the SNSF.</li>…"
      ]
     },
     "execution_count": 7,
     "metadata": {},
     "output_type": "execute_result"
    }
   ],
   "source": [
    "html_acknowledgments = markdown.markdown(\"\"\"\n",
    "* Funding from the NCCR MARVEL funded by the SNSF.\n",
    "\"\"\")\n",
    "acknowledgments=widgets.VBox([\n",
    "    HTML(html_acknowledgments)\n",
    "])\n",
    "\n",
    "html_howtocite = markdown.markdown(\"\"\"\n",
    "Please cite the cell2mol paper~!\n",
    "\"\"\")\n",
    "howtocite=widgets.VBox([\n",
    "    HTML(html_howtocite)\n",
    "])\n",
    "\n",
    "post_children=[acknowledgments,howtocite]\n",
    "post_accordion = widgets.Accordion(layout=widgets.Layout())\n",
    "#print(post_accordion.layout.keys)\n",
    "post_accordion.children = post_children\n",
    "post_accordion.set_title(0, 'Acknowledgments')\n",
    "post_accordion.set_title(1, 'How to cite')\n",
    "post_accordion.selected_index = None\n",
    "post_accordion"
   ]
  },
  {
   "cell_type": "markdown",
   "metadata": {},
   "source": [
    "See the project on [GitHub](https://github.com/lcmd-epfl/cell2mol)"
   ]
  },
  {
   "cell_type": "markdown",
   "metadata": {},
   "source": [
    "cell2mol, Copyright © 2022 LCMD-EPFL"
   ]
  },
  {
   "cell_type": "code",
   "execution_count": null,
   "metadata": {},
   "outputs": [],
   "source": []
  },
  {
   "cell_type": "code",
   "execution_count": null,
   "metadata": {},
   "outputs": [],
   "source": []
  },
  {
   "cell_type": "code",
   "execution_count": null,
   "metadata": {},
   "outputs": [],
   "source": []
  }
 ],
 "metadata": {
  "kernelspec": {
   "display_name": "cell2mol",
   "language": "python",
   "name": "cell2mol"
  },
  "language_info": {
   "codemirror_mode": {
    "name": "ipython",
    "version": 3
   },
   "file_extension": ".py",
   "mimetype": "text/x-python",
   "name": "python",
   "nbconvert_exporter": "python",
   "pygments_lexer": "ipython3",
   "version": "3.9.9"
  }
 },
 "nbformat": 4,
 "nbformat_minor": 4
}
