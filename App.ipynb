{
 "cells": [
  {
   "cell_type": "markdown",
   "metadata": {},
   "source": [
    "<img style=\"float: right;\" src=\"images/cell2mol_logo.png\" width=\"500\">\n",
    "\n",
    "# cell2mol\n",
    "Unit Cell to Molecule Interpretation"
   ]
  },
  {
   "cell_type": "code",
   "execution_count": 1,
   "metadata": {},
   "outputs": [],
   "source": [
    "import numpy as np\n",
    "from ipywidgets import interactive, widgets, HTML, Button\n",
    "from typing import Callable, Any\n",
    "import warnings\n",
    "import os\n",
    "import markdown\n",
    "import codecs\n",
    "from IPython.display import display, FileLink\n",
    "from contextlib import contextmanager\n",
    "# Two imports are not needed due to visualization being disabled until nglview integration is fixed\n",
    "#import ase.io\n",
    "#import nglview\n",
    "\n",
    "\n",
    "warnings.simplefilter('ignore')"
   ]
  },
  {
   "cell_type": "code",
   "execution_count": 2,
   "metadata": {},
   "outputs": [
    {
     "data": {
      "application/vnd.jupyter.widget-view+json": {
       "model_id": "6c4141f835df4fc2ba0acad45e36c207",
       "version_major": 2,
       "version_minor": 0
      },
      "text/plain": [
       "Accordion(children=(HTML(value='<p>cell2mol is able to analyze cif files containing crystallographic unit cell…"
      ]
     },
     "execution_count": 2,
     "metadata": {},
     "output_type": "execute_result"
    }
   ],
   "source": [
    "html_description = markdown.markdown(\"\"\"\n",
    "cell2mol is able to analyze cif files containing crystallographic unit cell information and provide a chemical interpretation of the individual molecular species\"\"\")\n",
    "description=HTML(html_description)\n",
    "\n",
    "pre_accordion = widgets.Accordion()\n",
    "pre_accordion.children = [description]\n",
    "pre_accordion.set_title(0, 'Description')\n",
    "pre_accordion.selected_index = None\n",
    "pre_accordion"
   ]
  },
  {
   "cell_type": "markdown",
   "metadata": {},
   "source": [
    "Proceed through the four tabs sequentially."
   ]
  },
  {
   "cell_type": "code",
   "execution_count": 3,
   "metadata": {},
   "outputs": [],
   "source": [
    "# Import the core functionalities of cell2mol\n",
    "from cell2mol.cif2info import cif_2_info\n",
    "from cell2mol.c2m_module import save_cell, cell2mol\n",
    "\n"
   ]
  },
  {
   "cell_type": "code",
   "execution_count": 4,
   "metadata": {},
   "outputs": [],
   "source": [
    "# Define plotting and downloading functionalities\n",
    "\n",
    "class DownloadButton(Button):\n",
    "    \"\"\"Download button with dynamic content\n",
    "\n",
    "    The content is generated using a callback when the button is clicked.\n",
    "    \"\"\"\n",
    "\n",
    "    def __init__(self, filename: str, contents: Callable[[], str], **kwargs):\n",
    "        super(DownloadButton, self).__init__(**kwargs)\n",
    "        self.filename = filename\n",
    "        self.contents = contents\n",
    "        self.tooltip='Click me to download'\n",
    "        self.description='Download'\n",
    "        self.icon='fa-check'\n",
    "        self.on_click(self.__on_click)\n",
    "\n",
    "    def __on_click(self, b):\n",
    "        contents: bytes = self.contents().encode('utf-8')\n",
    "        b64 = base64.b64encode(contents)\n",
    "        payload = b64.decode()\n",
    "        digest = hashlib.md5(contents).hexdigest()  # bypass browser cache\n",
    "        id = f'dl_{digest}'\n",
    "\n",
    "        display(HTML(f\"\"\"\n",
    "<html>\n",
    "<body>\n",
    "<a id=\"{id}\" download=\"{self.filename}\" href=\"data:text/csv;base64,{payload}\" download>\n",
    "</a>\n",
    "\n",
    "<script>\n",
    "(function download() {{\n",
    "document.getElementById('{id}').click();\n",
    "}})()\n",
    "</script>\n",
    "\n",
    "</body>\n",
    "</html>\n",
    "\"\"\"))\n",
    "\n",
    "class ExecutionButton(Button):\n",
    "    def __init__(self, action: Callable[bool, Any], **kwargs):\n",
    "        super(ExecutionButton, self).__init__(**kwargs)\n",
    "        self.action = action\n",
    "        self.tooltip='Click me to run'\n",
    "        self.description='Run'\n",
    "        self.icon='fa-check'\n",
    "        self.on_click(self.__on_click)\n",
    "        \n",
    "    @contextmanager\n",
    "    def show_loading(self):\n",
    "        self.description = 'Running...'\n",
    "        self.icon = 'fa-stop'\n",
    "        yield\n",
    "        self.description = 'Ready to run again'\n",
    "        self.icon = 'fa-check'\n",
    "        \n",
    "    def __on_click(self, b):\n",
    "        with self.show_loading():\n",
    "            self.action(run=True)\n",
    "              \n",
    "def plot_from_file(filename):\n",
    "    pass\n",
    "    # This function is disabled currently due to incompatibilities depending on the nglviewer and widgets versions\n",
    "    #atoms = ase.io.read(filename)\n",
    "    #v = nglview.show_ase(self.conf)\n",
    "    #v.add_representation(\"unitcell\")\n",
    "    #boxy=widgets.Box([v],layout=self.box_layout)\n",
    "    #display(boxy)"
   ]
  },
  {
   "cell_type": "code",
   "execution_count": 5,
   "metadata": {},
   "outputs": [],
   "source": [
    "#############################\n",
    "# STEP 1: Choose and upload\n",
    "#############################\n",
    "\n",
    "# Define upload widget\n",
    "Widget1UploadConfiguration = widgets.FileUpload(\n",
    " accept='.cif',  # Accepted file extension e.g. '.cif'\n",
    " multiple=False,  # True to accept multiple files upload else False\n",
    " wait=True\n",
    ")\n",
    "\n",
    "examples = ('Transition metal complex', 'cell2mol/test/cif/AJEPIP.cif'),\n",
    "widget_choose_filename = widgets.Dropdown(options=examples,description='Structure:')\n",
    "\n",
    "Widget1Out = widgets.Output()\n",
    "def chooseAndPlotConfigurationAltOutput(filename):\n",
    "    Widget1Out.clear_output()\n",
    "    with Widget1Out:\n",
    "        plot_from_file(filename)\n",
    "        \n",
    "Widget1ExampleConfiguration = interactive(chooseAndPlotConfigurationAltOutput, filename=widget_choose_filename)\n",
    "\n",
    "# This function updates the dropdown list when a new file is uploaded\n",
    "def updateWidget1ExampleConfiguration(*args):\n",
    "    uploaded = next(iter(Widget1UploadConfiguration.value))\n",
    "    cif_content = codecs.decode(uploaded['content'], encoding=\"utf-8\") \n",
    "    cif_name = uploaded['name']\n",
    "    mypath=\"./uploaded/\"\n",
    "    with open(mypath + cif_name, 'w+') as f: f.write(cif_content)\n",
    "    found_files=[]\n",
    "    for f in os.listdir(mypath):\n",
    "        found_files.append(f)\n",
    "    all_files = found_files\n",
    "    widget_choose_filename.options = all_files\n",
    "    \n",
    "Widget1UploadConfiguration.observe(updateWidget1ExampleConfiguration,names='value')\n",
    "Widget1ExamplesAndUpload = widgets.HBox([Widget1ExampleConfiguration,Widget1UploadConfiguration])\n",
    "Widget1Text = HTML(markdown.markdown(\"\"\"\n",
    "Choose a structure from the examples or upload your own in .cif format [https://en.wikipedia.org/wiki/Crystallographic_Information_File].\n",
    "\"\"\"))\n",
    "Widget1 = widgets.VBox([Widget1Text,Widget1ExamplesAndUpload,Widget1Out])\n",
    "\n",
    "#############################\n",
    "# STEP 2: Run cell2info\n",
    "#############################\n",
    "def run_cell2info(run=False):\n",
    "    if run :\n",
    "        cif_name = widget_choose_filename.value\n",
    "        if \"/\" in cif_name :\n",
    "            cif_name = cif_name.split(\"/\")[-1]\n",
    "        refcode = cif_name.split(\"/\")[-1].split(\".\")[-2]\n",
    "        info_name = cif_name.replace('.cif', '.info')\n",
    "        err_name = cif_name.replace('.cif', '.err')\n",
    "        input_path = \"./uploaded/\" + cif_name\n",
    "        info_path = \"./uploaded/\" + info_name\n",
    "        error_path = \"./uploaded/\" + err_name\n",
    "        cell_path = \"./Cell_\" + refcode +'.gmol'\n",
    "        cif_2_info(input_path, info_path, error_path)\n",
    "\n",
    "#############################\n",
    "# STEP 3: Run cell2mol on infofile\n",
    "#############################\n",
    "def run_cell2mol(run=False):\n",
    "    if run :\n",
    "        cif_name = widget_choose_filename.value\n",
    "        if \"/\" in cif_name :\n",
    "            cif_name = cif_name.split(\"/\")[-1]\n",
    "        refcode = cif_name.split(\"/\")[-1].split(\".\")[-2]\n",
    "        info_name = cif_name.replace('.cif', '.info')\n",
    "        err_name = cif_name.replace('.cif', '.err')\n",
    "        input_path = \"./uploaded/\" + cif_name\n",
    "        info_path = \"./uploaded/\" + info_name\n",
    "        error_path = \"./uploaded/\" + err_name\n",
    "        cell_path = \"./Cell_\" + refcode +'.gmol'\n",
    "        if os.path.exists(info_path):\n",
    "            print(f\"Running in {os.getcwd()}\")\n",
    "            cell = cell2mol(info_path, refcode, os.getcwd(), 3)\n",
    "        else:\n",
    "            print(\"Please, wait until cell2info has finished for this input.\")\n",
    "    \n",
    "Widget2Text = HTML(markdown.markdown(\"\"\"\n",
    "Will run cell2info on the cif file selected in the drop down menu in the previous tab. Should run almost instantaneously. When finished, go to next tab.\n",
    "\"\"\"))\n",
    "Widget2 = widgets.VBox([Widget2Text, ExecutionButton(run_cell2info)])\n",
    "Widget3Text = HTML(markdown.markdown(\"\"\"\n",
    "Will run cell2mol on the info file obtained in the previous tab from the cif file in the first tab. Takes some time to run. When finished, go to next tab.\n",
    "\"\"\"))\n",
    "Widget3 = widgets.VBox([Widget3Text, ExecutionButton(run_cell2mol)])\n",
    "Widget4 = DownloadButton(\"Cell\",\"patatatatatat\")"
   ]
  },
  {
   "cell_type": "code",
   "execution_count": 6,
   "metadata": {},
   "outputs": [],
   "source": [
    "#############################\n",
    "# Put widget in tab\n",
    "#############################\n",
    "\n",
    "children = [Widget1, Widget2, Widget3, Widget4]\n",
    "tab = widgets.Tab() #layout=widgets.Layout(width='800px', height='800px'))\n",
    "tab.children = children\n",
    "tab.set_title(0, 'Upload file')\n",
    "tab.set_title(1, 'Run cell2info')\n",
    "tab.set_title(2, 'Run cell2mol')\n",
    "tab.set_title(3, 'Download cell object')\n"
   ]
  },
  {
   "cell_type": "code",
   "execution_count": 7,
   "metadata": {},
   "outputs": [
    {
     "data": {
      "application/vnd.jupyter.widget-view+json": {
       "model_id": "d3a0f924d83f4d1cb3e147d5e2e227eb",
       "version_major": 2,
       "version_minor": 0
      },
      "text/plain": [
       "Tab(children=(VBox(children=(HTML(value='<p>Choose a structure from the examples or upload your own in .cif fo…"
      ]
     },
     "metadata": {},
     "output_type": "display_data"
    }
   ],
   "source": [
    "display(tab)"
   ]
  },
  {
   "cell_type": "code",
   "execution_count": 8,
   "metadata": {},
   "outputs": [
    {
     "data": {
      "application/vnd.jupyter.widget-view+json": {
       "model_id": "f01140d49e8c4be3af6140a93061b61d",
       "version_major": 2,
       "version_minor": 0
      },
      "text/plain": [
       "Accordion(children=(VBox(children=(HTML(value='<ul>\\n<li>Funding from the NCCR MARVEL funded by the SNSF.</li>…"
      ]
     },
     "execution_count": 8,
     "metadata": {},
     "output_type": "execute_result"
    }
   ],
   "source": [
    "html_acknowledgments = markdown.markdown(\"\"\"\n",
    "* Funding from the NCCR MARVEL funded by the SNSF.\n",
    "\"\"\")\n",
    "acknowledgments=widgets.VBox([\n",
    "    HTML(html_acknowledgments)\n",
    "])\n",
    "\n",
    "html_howtocite = markdown.markdown(\"\"\"\n",
    "Please cite the cell2mol paper~!\n",
    "\"\"\")\n",
    "howtocite=widgets.VBox([\n",
    "    HTML(html_howtocite)\n",
    "])\n",
    "\n",
    "post_children=[acknowledgments,howtocite]\n",
    "post_accordion = widgets.Accordion(layout=widgets.Layout())\n",
    "#print(post_accordion.layout.keys)\n",
    "post_accordion.children = post_children\n",
    "post_accordion.set_title(0, 'Acknowledgments')\n",
    "post_accordion.set_title(1, 'How to cite')\n",
    "post_accordion.selected_index = None\n",
    "post_accordion"
   ]
  },
  {
   "cell_type": "markdown",
   "metadata": {},
   "source": [
    "See the project on [GitHub](https://github.com/lcmd-epfl/cell2mol)"
   ]
  },
  {
   "cell_type": "markdown",
   "metadata": {},
   "source": [
    "cell2mol, Copyright © 2022 LCMD-EPFL"
   ]
  },
  {
   "cell_type": "code",
   "execution_count": null,
   "metadata": {},
   "outputs": [],
   "source": []
  }
 ],
 "metadata": {
  "kernelspec": {
   "display_name": "cell2mol",
   "language": "python",
   "name": "cell2mol"
  },
  "language_info": {
   "codemirror_mode": {
    "name": "ipython",
    "version": 3
   },
   "file_extension": ".py",
   "mimetype": "text/x-python",
   "name": "python",
   "nbconvert_exporter": "python",
   "pygments_lexer": "ipython3",
   "version": "3.9.9"
  }
 },
 "nbformat": 4,
 "nbformat_minor": 4
}
